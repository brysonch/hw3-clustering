{
 "cells": [
  {
   "cell_type": "code",
   "execution_count": 2,
   "id": "838dfcf7",
   "metadata": {},
   "outputs": [],
   "source": [
    "import numpy as np\n",
    "from scipy.spatial.distance import cdist\n"
   ]
  },
  {
   "cell_type": "code",
   "execution_count": 3,
   "id": "87922e08",
   "metadata": {},
   "outputs": [
    {
     "data": {
      "text/plain": [
       "array([307, 671, 233])"
      ]
     },
     "execution_count": 3,
     "metadata": {},
     "output_type": "execute_result"
    }
   ],
   "source": [
    "np.random.choice(1000,3,replace=False)"
   ]
  },
  {
   "cell_type": "code",
   "execution_count": 4,
   "id": "86d678b6",
   "metadata": {},
   "outputs": [
    {
     "name": "stdout",
     "output_type": "stream",
     "text": [
      "[[5 6 8]\n",
      " [7 5 3]\n",
      " [1 3 8]\n",
      " [2 1 4]\n",
      " [9 7 6]\n",
      " [1 1 1]\n",
      " [0 9 3]\n",
      " [3 5 5]\n",
      " [6 2 1]\n",
      " [9 2 3]\n",
      " [8 6 7]\n",
      " [8 8 1]\n",
      " [2 8 0]\n",
      " [5 1 5]\n",
      " [4 4 7]\n",
      " [8 4 6]\n",
      " [4 1 3]\n",
      " [0 3 2]\n",
      " [8 0 4]\n",
      " [9 8 8]]\n",
      "\n",
      " [[8 6 7]\n",
      " [4 1 3]\n",
      " [1 1 1]\n",
      " [5 1 5]\n",
      " [0 3 2]]\n"
     ]
    }
   ],
   "source": [
    "test = np.random.choice(10,(20,3))\n",
    "print(test)\n",
    "centroids = test[np.random.choice(20,5)]\n",
    "print(\"\\n\", centroids)"
   ]
  },
  {
   "cell_type": "code",
   "execution_count": 6,
   "id": "06fc34a3",
   "metadata": {},
   "outputs": [
    {
     "data": {
      "text/plain": [
       "array([[ 3.16227766,  7.14142843,  9.48683298,  5.83095189,  8.36660027],\n",
       "       [ 4.24264069,  5.        ,  7.48331477,  4.89897949,  7.34846923],\n",
       "       [ 7.68114575,  6.164414  ,  7.28010989,  5.38516481,  6.08276253],\n",
       "       [ 8.36660027,  2.23606798,  3.16227766,  3.16227766,  3.46410162],\n",
       "       [ 1.73205081,  8.36660027, 11.18033989,  7.28010989, 10.63014581],\n",
       "       [10.48808848,  3.60555128,  0.        ,  5.65685425,  2.44948974],\n",
       "       [ 9.43398113,  8.94427191,  8.30662386,  9.64365076,  6.08276253],\n",
       "       [ 5.47722558,  4.58257569,  6.        ,  4.47213595,  4.69041576],\n",
       "       [ 7.48331477,  3.        ,  5.09901951,  4.24264069,  6.164414  ],\n",
       "       [ 5.74456265,  5.09901951,  8.30662386,  4.58257569,  9.11043358],\n",
       "       [ 0.        ,  7.54983444, 10.48808848,  6.164414  ,  9.89949494],\n",
       "       [ 6.32455532,  8.30662386,  9.89949494,  8.60232527,  9.48683298],\n",
       "       [ 9.43398113,  7.87400787,  7.14142843,  9.11043358,  5.74456265],\n",
       "       [ 6.164414  ,  2.23606798,  5.65685425,  0.        ,  6.164414  ],\n",
       "       [ 4.47213595,  5.        ,  7.34846923,  3.74165739,  6.4807407 ],\n",
       "       [ 2.23606798,  5.83095189,  9.11043358,  4.35889894,  9.        ],\n",
       "       [ 7.54983444,  0.        ,  3.60555128,  2.23606798,  4.58257569],\n",
       "       [ 9.89949494,  4.58257569,  2.44948974,  6.164414  ,  0.        ],\n",
       "       [ 6.70820393,  4.24264069,  7.68114575,  3.31662479,  8.77496439],\n",
       "       [ 2.44948974,  9.94987437, 12.72792206,  8.60232527, 11.91637529]])"
      ]
     },
     "execution_count": 6,
     "metadata": {},
     "output_type": "execute_result"
    }
   ],
   "source": [
    "cdist(test, centroids)"
   ]
  },
  {
   "cell_type": "code",
   "execution_count": 7,
   "id": "e24505e0",
   "metadata": {},
   "outputs": [
    {
     "data": {
      "text/plain": [
       "array([0, 0, 3, 1, 0, 2, 4, 3, 1, 3, 0, 0, 4, 3, 3, 0, 1, 4, 3, 0])"
      ]
     },
     "execution_count": 7,
     "metadata": {},
     "output_type": "execute_result"
    }
   ],
   "source": [
    "np.argmin(cdist(test, centroids, metric=\"euclidean\"), axis=1)"
   ]
  },
  {
   "cell_type": "code",
   "execution_count": 8,
   "id": "21d16839",
   "metadata": {},
   "outputs": [
    {
     "data": {
      "text/plain": [
       "inf"
      ]
     },
     "execution_count": 8,
     "metadata": {},
     "output_type": "execute_result"
    }
   ],
   "source": [
    "np.inf"
   ]
  },
  {
   "cell_type": "code",
   "execution_count": 9,
   "id": "3f33b3d1",
   "metadata": {},
   "outputs": [
    {
     "data": {
      "text/plain": [
       "array([[0., 0., 0.],\n",
       "       [0., 0., 0.],\n",
       "       [0., 0., 0.]])"
      ]
     },
     "execution_count": 9,
     "metadata": {},
     "output_type": "execute_result"
    }
   ],
   "source": [
    "np.zeros((3,3))"
   ]
  },
  {
   "cell_type": "code",
   "execution_count": 10,
   "id": "952104a6",
   "metadata": {},
   "outputs": [
    {
     "data": {
      "text/plain": [
       "876"
      ]
     },
     "execution_count": 10,
     "metadata": {},
     "output_type": "execute_result"
    }
   ],
   "source": [
    "np.sum(np.square(test - centroids[0]))"
   ]
  },
  {
   "cell_type": "code",
   "execution_count": 106,
   "id": "20c8cd38",
   "metadata": {},
   "outputs": [],
   "source": [
    "import numpy as np\n",
    "from scipy.spatial.distance import cdist\n",
    "\n",
    "\n",
    "class KMeans:\n",
    "    def __init__(self, k: int, tol: float = 1e-6, max_iter: int = 100):\n",
    "        \"\"\"\n",
    "        In this method you should initialize whatever attributes will be required for the class.\n",
    "\n",
    "        You can also do some basic error handling.\n",
    "\n",
    "        What should happen if the user provides the wrong input or wrong type of input for the\n",
    "        argument k?\n",
    "\n",
    "        inputs:\n",
    "            k: int\n",
    "                the number of centroids to use in cluster fitting\n",
    "            tol: float\n",
    "                the minimum error tolerance from previous error during optimization to quit the model fit\n",
    "            max_iter: int\n",
    "                the maximum number of iterations before quitting model fit\n",
    "        \"\"\"\n",
    "\n",
    "        if k <= 0: raise Exception(\"k must be a positive integer\") #TypeError\n",
    "\n",
    "        self.k = k\n",
    "        self.tol = tol\n",
    "        self.max_iter = max_iter\n",
    "\n",
    "    def fit(self, mat: np.ndarray):\n",
    "        \"\"\"\n",
    "        Fits the kmeans algorithm onto a provided 2D matrix.\n",
    "        As a bit of background, this method should not return anything.\n",
    "        The intent here is to have this method find the k cluster centers from the data\n",
    "        with the tolerance, then you will use .predict() to identify the\n",
    "        clusters that best match some data that is provided.\n",
    "\n",
    "        In sklearn there is also a fit_predict() method that combines these\n",
    "        functions, but for now we will have you implement them both separately.\n",
    "\n",
    "        inputs:\n",
    "            mat: np.ndarray\n",
    "                A 2D matrix where the rows are observations and columns are features\n",
    "        \"\"\"\n",
    "\n",
    "        self.mat = mat\n",
    "        self.observations, self.features = self.mat.shape\n",
    "\n",
    "        if self.observations < self.k: raise Exception(\"Cannot assign \" + str(self.observations) + \" observations to \" + str(self.k) + \" clusters\")\n",
    "\n",
    "        #self.centroids = mat[np.random.choice(self.observations, self.k, replace=False)]\n",
    "        self.centroids = self._init_centroids(mat)\n",
    "        self.pred_labels = np.zeros((self.observations, 1))\n",
    "     \n",
    "        i = 0\n",
    "        error = np.inf\n",
    "\n",
    "        while i < self.max_iter and error > self.tol:\n",
    "            self.pred_labels = self.predict(self.mat)\n",
    "            #print(\"pred: \",self.pred_labels)\n",
    "            #print(\"pred labels: \", self.pred_labels)\n",
    "            self.old = self.centroids\n",
    "            self.centroids = self.get_centroids()\n",
    "            print(\"old: \", self.old)\n",
    "            print(\"centroids: \", self.centroids)\n",
    "            #print(\"centroids: \", self.centroids)\n",
    "            #if i == 0: error = self.get_error()\n",
    "            #else: error = error - self.get_error()\n",
    "            error = self.get_error()\n",
    "            print(error)\n",
    "            i += 1\n",
    "        #self.pred_labels = self.predict(self.mat)\n",
    "\n",
    "\n",
    "    def predict(self, mat: np.ndarray) -> np.ndarray:\n",
    "        \"\"\"\n",
    "        Predicts the cluster labels for a provided matrix of data points--\n",
    "            question: what sorts of data inputs here would prevent the code from running?\n",
    "            How would you catch these sorts of end-user related errors?\n",
    "            What if, for example, the matrix is of a different number of features than\n",
    "            the data that the clusters were fit on?\n",
    "\n",
    "        inputs:\n",
    "            mat: np.ndarray\n",
    "                A 2D matrix where the rows are observations and columns are features\n",
    "\n",
    "        outputs:\n",
    "            np.ndarray\n",
    "                a 1D array with the cluster label for each of the observations in `mat`\n",
    "        \"\"\"\n",
    "        \n",
    "        return np.argmin(cdist(self.mat, self.centroids, metric=\"euclidean\"), axis=1)\n",
    "\n",
    "\n",
    "    def get_error(self) -> float:\n",
    "        \"\"\"\n",
    "        Returns the final squared-mean error of the fit model. You can either do this by storing the\n",
    "        original dataset or recording it following the end of model fitting.\n",
    "\n",
    "        outputs:\n",
    "            float\n",
    "                the squared-mean error of the fit model\n",
    "        \"\"\"\n",
    "        #mse = np.zeros(self.k)\n",
    "        mse = np.sum(np.square(self.old - self.centroids))\n",
    "\n",
    "        #for cluster in range(self.k):\n",
    "            #print(\"pred: \", self.mat[cluster == self.pred_labels])\n",
    "            #print(\"centroids: \",self.centroids[cluster])\n",
    "            #mse[cluster] = np.sum(np.square(self.mat[cluster == self.pred_labels] - self.centroids[cluster]))\n",
    "            #mse[cluster] = np.sum(np.square(self.old - self.centroids))\n",
    "        return float(np.sum(mse))\n",
    "\n",
    "    def get_centroids(self) -> np.ndarray:\n",
    "        \"\"\"\n",
    "        Returns the centroid locations of the fit model.\n",
    "\n",
    "        outputs:\n",
    "            np.ndarray\n",
    "                a `k x m` 2D matrix representing the cluster centroids of the fit model\n",
    "        \"\"\"\n",
    "\n",
    "        fit_centroids = np.zeros((self.k, self.features))\n",
    "\n",
    "        for cluster in range(self.k):\n",
    "            #print(\"centroids fit: \", self.mat[cluster == self.pred_labels, :])\n",
    "            \n",
    "            fit_centroids[cluster, :] = np.mean(self.mat[cluster == self.pred_labels, :], axis = 0)\n",
    "            \n",
    "        return fit_centroids\n",
    "    \n",
    "    def _init_centroids(self, mat:np.ndarray) -> np.ndarray:\n",
    "\n",
    "        centroids = mat[np.random.choice(self.observations, self.k)]\n",
    "        mod_mat = mat\n",
    "        # replacing each random centroid\n",
    "\n",
    "        for centroid in range(self.k - 1):\n",
    "            ind = np.where((mod_mat == centroids[centroid]).all(axis=1))\n",
    "            print(\"centroids: \", centroids[centroid])\n",
    "            print(\"mod mat: \", mod_mat)\n",
    "            print(\"ind: \", ind)\n",
    "            mod_mat = np.delete(mod_mat, ind, axis=0)\n",
    "            print(\"mod mat: \", mod_mat)\n",
    "            print(\"c: \", centroids[centroid])\n",
    "            \n",
    "            centroids[centroid + 1] = mat[np.argmax(np.sum(np.square(centroids[centroid] - mod_mat), axis=1))]\n",
    "\n",
    "        return centroids\n",
    "\n",
    "\n"
   ]
  },
  {
   "cell_type": "code",
   "execution_count": 107,
   "id": "8895c7d0",
   "metadata": {},
   "outputs": [
    {
     "name": "stdout",
     "output_type": "stream",
     "text": [
      "centroids:  [3 0 4]\n",
      "mod mat:  [[8 9 1]\n",
      " [5 8 0]\n",
      " [7 3 8]\n",
      " [9 1 4]\n",
      " [0 7 9]\n",
      " [7 4 5]\n",
      " [0 4 8]\n",
      " [3 0 7]\n",
      " [5 5 5]\n",
      " [1 8 5]\n",
      " [3 0 4]\n",
      " [2 1 5]\n",
      " [3 4 7]\n",
      " [3 5 3]\n",
      " [3 2 2]\n",
      " [8 3 1]\n",
      " [5 0 3]\n",
      " [1 3 5]\n",
      " [0 4 5]\n",
      " [0 5 6]]\n",
      "ind:  (array([10]),)\n",
      "mod mat:  [[8 9 1]\n",
      " [5 8 0]\n",
      " [7 3 8]\n",
      " [9 1 4]\n",
      " [0 7 9]\n",
      " [7 4 5]\n",
      " [0 4 8]\n",
      " [3 0 7]\n",
      " [5 5 5]\n",
      " [1 8 5]\n",
      " [2 1 5]\n",
      " [3 4 7]\n",
      " [3 5 3]\n",
      " [3 2 2]\n",
      " [8 3 1]\n",
      " [5 0 3]\n",
      " [1 3 5]\n",
      " [0 4 5]\n",
      " [0 5 6]]\n",
      "c:  [3 0 4]\n",
      "centroids:  [8 9 1]\n",
      "mod mat:  [[8 9 1]\n",
      " [5 8 0]\n",
      " [7 3 8]\n",
      " [9 1 4]\n",
      " [0 7 9]\n",
      " [7 4 5]\n",
      " [0 4 8]\n",
      " [3 0 7]\n",
      " [5 5 5]\n",
      " [1 8 5]\n",
      " [2 1 5]\n",
      " [3 4 7]\n",
      " [3 5 3]\n",
      " [3 2 2]\n",
      " [8 3 1]\n",
      " [5 0 3]\n",
      " [1 3 5]\n",
      " [0 4 5]\n",
      " [0 5 6]]\n",
      "ind:  (array([0]),)\n",
      "mod mat:  [[5 8 0]\n",
      " [7 3 8]\n",
      " [9 1 4]\n",
      " [0 7 9]\n",
      " [7 4 5]\n",
      " [0 4 8]\n",
      " [3 0 7]\n",
      " [5 5 5]\n",
      " [1 8 5]\n",
      " [2 1 5]\n",
      " [3 4 7]\n",
      " [3 5 3]\n",
      " [3 2 2]\n",
      " [8 3 1]\n",
      " [5 0 3]\n",
      " [1 3 5]\n",
      " [0 4 5]\n",
      " [0 5 6]]\n",
      "c:  [8 9 1]\n",
      "old:  [[3 0 4]\n",
      " [8 9 1]\n",
      " [0 4 8]]\n",
      "centroids:  [[4.7        2.1        4.6       ]\n",
      " [7.         6.66666667 0.66666667]\n",
      " [0.71428571 5.         6.42857143]]\n",
      "18.195147392290245\n",
      "old:  [[4.7        2.1        4.6       ]\n",
      " [7.         6.66666667 0.66666667]\n",
      " [0.71428571 5.         6.42857143]]\n",
      "centroids:  [[4.7        2.1        4.6       ]\n",
      " [7.         6.66666667 0.66666667]\n",
      " [0.71428571 5.         6.42857143]]\n",
      "0.0\n"
     ]
    }
   ],
   "source": [
    "new = KMeans(3)\n",
    "new.fit(test)\n",
    "#print(test)\n",
    "\n",
    "#np.where((test==[7,4,5]).all(axis=1))\n",
    "#(vals == (0, 1)).all(axis=1)"
   ]
  },
  {
   "cell_type": "code",
   "execution_count": null,
   "id": "f4025530",
   "metadata": {},
   "outputs": [],
   "source": []
  },
  {
   "cell_type": "code",
   "execution_count": 13,
   "id": "0fcd31fa",
   "metadata": {},
   "outputs": [
    {
     "ename": "NameError",
     "evalue": "name 'make_clusters' is not defined",
     "output_type": "error",
     "traceback": [
      "\u001b[0;31m---------------------------------------------------------------------------\u001b[0m",
      "\u001b[0;31mNameError\u001b[0m                                 Traceback (most recent call last)",
      "Input \u001b[0;32mIn [13]\u001b[0m, in \u001b[0;36m<cell line: 33>\u001b[0;34m()\u001b[0m\n\u001b[1;32m     30\u001b[0m     plot_multipanel(clusters, labels, pred, scores)\n\u001b[1;32m     33\u001b[0m \u001b[38;5;28;01mif\u001b[39;00m \u001b[38;5;18m__name__\u001b[39m \u001b[38;5;241m==\u001b[39m \u001b[38;5;124m\"\u001b[39m\u001b[38;5;124m__main__\u001b[39m\u001b[38;5;124m\"\u001b[39m:\n\u001b[0;32m---> 34\u001b[0m     \u001b[43mmain\u001b[49m\u001b[43m(\u001b[49m\u001b[43m)\u001b[49m\n",
      "Input \u001b[0;32mIn [13]\u001b[0m, in \u001b[0;36mmain\u001b[0;34m()\u001b[0m\n\u001b[1;32m     12\u001b[0m \u001b[38;5;28;01mdef\u001b[39;00m \u001b[38;5;21mmain\u001b[39m():\n\u001b[1;32m     13\u001b[0m \n\u001b[1;32m     14\u001b[0m     \u001b[38;5;66;03m# create tight clusters\u001b[39;00m\n\u001b[0;32m---> 15\u001b[0m     clusters, labels \u001b[38;5;241m=\u001b[39m \u001b[43mmake_clusters\u001b[49m(scale\u001b[38;5;241m=\u001b[39m\u001b[38;5;241m0.3\u001b[39m)\n\u001b[1;32m     16\u001b[0m     plot_clusters(clusters, labels, filename\u001b[38;5;241m=\u001b[39m\u001b[38;5;124m\"\u001b[39m\u001b[38;5;124mfigures/tight_clusters.png\u001b[39m\u001b[38;5;124m\"\u001b[39m)\n\u001b[1;32m     18\u001b[0m     \u001b[38;5;66;03m# create loose clusters\u001b[39;00m\n",
      "\u001b[0;31mNameError\u001b[0m: name 'make_clusters' is not defined"
     ]
    }
   ],
   "source": [
    "import numpy as np\n",
    "'''\n",
    "from cluster import (\n",
    "        KMeans, \n",
    "        Silhouette, \n",
    "        make_clusters,\n",
    "        plot_clusters,\n",
    "        plot_multipanel)\n",
    "'''\n",
    "\n",
    "\n",
    "def main():\n",
    "\n",
    "    # create tight clusters\n",
    "    clusters, labels = make_clusters(scale=0.3)\n",
    "    plot_clusters(clusters, labels, filename=\"figures/tight_clusters.png\")\n",
    "\n",
    "    # create loose clusters\n",
    "    clusters, labels = make_clusters(scale=2)\n",
    "    plot_clusters(clusters, labels, filename=\"figures/loose_clusters.png\")\n",
    "\n",
    "    \"\"\"\n",
    "    uncomment this section once you are ready to visualize your kmeans + silhouette implementation\n",
    "    \"\"\"\n",
    "    clusters, labels = make_clusters(k=4, scale=1)\n",
    "    km = KMeans(k=4)\n",
    "    km.fit(clusters)\n",
    "    pred = km.predict(clusters)\n",
    "    #scores = Silhouette().score(clusters, pred)\n",
    "    plot_multipanel(clusters, labels, pred, scores)\n",
    "    \n",
    "\n",
    "if __name__ == \"__main__\":\n",
    "    main()\n"
   ]
  },
  {
   "cell_type": "code",
   "execution_count": 14,
   "id": "fe0b5cbd",
   "metadata": {},
   "outputs": [
    {
     "ename": "ValueError",
     "evalue": "XA must be a 2-dimensional array.",
     "output_type": "error",
     "traceback": [
      "\u001b[0;31m---------------------------------------------------------------------------\u001b[0m",
      "\u001b[0;31mValueError\u001b[0m                                Traceback (most recent call last)",
      "Input \u001b[0;32mIn [14]\u001b[0m, in \u001b[0;36m<cell line: 2>\u001b[0;34m()\u001b[0m\n\u001b[1;32m      1\u001b[0m a \u001b[38;5;241m=\u001b[39m [\u001b[38;5;241m2\u001b[39m,\u001b[38;5;241m5\u001b[39m,\u001b[38;5;241m4\u001b[39m]\n\u001b[0;32m----> 2\u001b[0m \u001b[43mcdist\u001b[49m\u001b[43m(\u001b[49m\u001b[43ma\u001b[49m\u001b[43m,\u001b[49m\u001b[43mtest\u001b[49m\u001b[43m,\u001b[49m\u001b[43mmetric\u001b[49m\u001b[38;5;241;43m=\u001b[39;49m\u001b[38;5;124;43m\"\u001b[39;49m\u001b[38;5;124;43meuclidean\u001b[39;49m\u001b[38;5;124;43m\"\u001b[39;49m\u001b[43m)\u001b[49m\n",
      "File \u001b[0;32m~/opt/anaconda3/lib/python3.9/site-packages/scipy/spatial/distance.py:2931\u001b[0m, in \u001b[0;36mcdist\u001b[0;34m(XA, XB, metric, out, **kwargs)\u001b[0m\n\u001b[1;32m   2928\u001b[0m sB \u001b[38;5;241m=\u001b[39m XB\u001b[38;5;241m.\u001b[39mshape\n\u001b[1;32m   2930\u001b[0m \u001b[38;5;28;01mif\u001b[39;00m \u001b[38;5;28mlen\u001b[39m(s) \u001b[38;5;241m!=\u001b[39m \u001b[38;5;241m2\u001b[39m:\n\u001b[0;32m-> 2931\u001b[0m     \u001b[38;5;28;01mraise\u001b[39;00m \u001b[38;5;167;01mValueError\u001b[39;00m(\u001b[38;5;124m'\u001b[39m\u001b[38;5;124mXA must be a 2-dimensional array.\u001b[39m\u001b[38;5;124m'\u001b[39m)\n\u001b[1;32m   2932\u001b[0m \u001b[38;5;28;01mif\u001b[39;00m \u001b[38;5;28mlen\u001b[39m(sB) \u001b[38;5;241m!=\u001b[39m \u001b[38;5;241m2\u001b[39m:\n\u001b[1;32m   2933\u001b[0m     \u001b[38;5;28;01mraise\u001b[39;00m \u001b[38;5;167;01mValueError\u001b[39;00m(\u001b[38;5;124m'\u001b[39m\u001b[38;5;124mXB must be a 2-dimensional array.\u001b[39m\u001b[38;5;124m'\u001b[39m)\n",
      "\u001b[0;31mValueError\u001b[0m: XA must be a 2-dimensional array."
     ]
    }
   ],
   "source": [
    "a = [2,5,4]\n",
    "cdist(a,test,metric=\"euclidean\")"
   ]
  },
  {
   "cell_type": "code",
   "execution_count": null,
   "id": "007cc3bc",
   "metadata": {},
   "outputs": [],
   "source": [
    "#print(test)\n",
    "dists = cdist(test, test, metric=\"euclidean\")\n",
    "np.sum(dists, axis=1)/(dists.shape[0] - 1)\n",
    "#== np.mean(dists, axis=1)\n",
    "#dists\n",
    "#print(dists, \"\\n\\n\\n\\n\\n\")\n",
    "#dists.ravel()[::dists.shape[1]+1] = dists.max()+1\n",
    "#print(dists)\n",
    "#print(test[dists.argmin(1)])\n",
    "#np.triu(dists)"
   ]
  },
  {
   "cell_type": "code",
   "execution_count": 15,
   "id": "fb34a7bd",
   "metadata": {},
   "outputs": [],
   "source": [
    "import numpy as np\n",
    "from scipy.spatial.distance import cdist\n",
    "\n",
    "\n",
    "class Silhouette:\n",
    "    def __init__(self):\n",
    "        \"\"\"\n",
    "        inputs:\n",
    "            none\n",
    "        \"\"\"\n",
    "\n",
    "    def score(self, X: np.ndarray, y: np.ndarray) -> np.ndarray:\n",
    "        \"\"\"\n",
    "        calculates the silhouette score for each of the observations\n",
    "\n",
    "        inputs:\n",
    "            X: np.ndarray\n",
    "                A 2D matrix where the rows are observations and columns are features.\n",
    "\n",
    "            y: np.ndarray\n",
    "                a 1D array representing the cluster labels for each of the observations in `X`\n",
    "\n",
    "        outputs:\n",
    "            np.ndarray\n",
    "                a 1D array with the silhouette scores for each of the observations in `X`\n",
    "        \"\"\"\n",
    "\n",
    "        nclusters = np.amax(y) + 1\n",
    "        nobs, nlabels = X.shape\n",
    "        labels = np.arange(0, np.amax(y) + 1)\n",
    "        a = np.zeros(nobs)\n",
    "\n",
    "        for cluster in labels:\n",
    "        #for cluster in np.unique(labels):            \n",
    "            print(\"something\")\n",
    "            cluster_type = X[cluster == y]\n",
    "            inds = np.where(cluster == y)\n",
    "            dists = cdist(cluster_type, cluster_type, metric=\"euclidean\")\n",
    "            \n",
    "            a[inds] = np.sum(dists, axis=1) / (dists.shape[0] - 1)\n",
    "\n",
    "        b = np.zeros(nobs)\n",
    "\n",
    "        for cluster in labels:\n",
    "        #for cluster in np.unique(labels):\n",
    "            print(\"times\")\n",
    "            cluster_type_og = X[cluster == y]\n",
    "            inds = np.where(cluster == y)\n",
    "            #other_labels = np.delete(labels, inds)\n",
    "            other_labels = np.delete(y, inds)\n",
    "            #print(\"shape of \")\n",
    "            min_dists = np.full(X[cluster == y].shape[0], np.inf)\n",
    "            #print(\"shape: \", other_labels)\n",
    "            #print(\"num in this cluster: \", cluster)\n",
    "            \n",
    "            #for other_cluster in range(len(other_labels)):\n",
    "            for other_cluster in np.unique(other_labels):\n",
    "                print(\"others\")\n",
    "                #print(\"num in others : \", other_cluster)\n",
    "                #print(\"other labels: \", other_labels)\n",
    "                cluster_type = X[other_cluster == y]\n",
    "                #print(\"other cluster type: \", cluster_type)\n",
    "\n",
    "                #dists = cdist(cluster_type, cluster_type, metric=\"euclidean\")\n",
    "                #print(\"shape of og: \", cluster_type_og.shape)\n",
    "                #print(\"shape of later: \", cluster_type.shape)\n",
    "                dists = cdist(cluster_type_og, cluster_type, metric=\"euclidean\")\n",
    "                #print(\"dists: \", dists)\n",
    "                avg_dists_per_cluster = np.mean(dists, axis=1)\n",
    "                min_dists = np.minimum(avg_dists_per_cluster, min_dists)\n",
    "                # make sure that the orientation of the matrix is correct\n",
    "            \n",
    "            b[inds] = min_dists\n",
    "            \n",
    "        #print(\"b: \", b)\n",
    "        #print(\"a: \", a)\n",
    "        return (b - a) / (np.maximum(a, b))\n",
    "    \n",
    "    \n",
    "\n"
   ]
  },
  {
   "cell_type": "code",
   "execution_count": 16,
   "id": "d2b9b46f",
   "metadata": {},
   "outputs": [
    {
     "data": {
      "text/plain": [
       "'\\ns = Silhouette()\\n\\nlabels=np.array([2, 0, 1, 0, 1, 1, 2, 1, 2, 1, 1, 0, 2, 2, 0, 0, 0, 1, 1, 2])\\nmean = np.mean(test, axis = 1)\\nprint(\"mean before: \", mean)\\nind = np.where(labels<1)\\nprint(\"ind: \",ind)\\nmean[ind] = np.arange(400,406)\\nprint(\"mean after: \", mean)\\n\\n#s.score(test, labels)\\n'"
      ]
     },
     "execution_count": 16,
     "metadata": {},
     "output_type": "execute_result"
    }
   ],
   "source": [
    "\n"
   ]
  },
  {
   "cell_type": "code",
   "execution_count": 17,
   "id": "dd8c9700",
   "metadata": {},
   "outputs": [
    {
     "name": "stdout",
     "output_type": "stream",
     "text": [
      "something\n",
      "something\n",
      "something\n",
      "times\n",
      "others\n",
      "others\n",
      "times\n",
      "others\n",
      "others\n",
      "times\n",
      "others\n",
      "others\n"
     ]
    },
    {
     "data": {
      "text/plain": [
       "array([-0.22799814, -0.02182546,  0.05299444,  0.21327907, -0.13102717,\n",
       "       -0.17945865, -0.02839862,  0.06136987, -0.12520589, -0.16049024,\n",
       "       -0.1940939 , -0.25599731, -0.12126453, -0.0617686 ,  0.13523879,\n",
       "        0.33251578,  0.21746058, -0.10120723, -0.16300576, -0.02863051])"
      ]
     },
     "execution_count": 17,
     "metadata": {},
     "output_type": "execute_result"
    }
   ],
   "source": [
    "s = Silhouette()\n",
    "test = np.random.choice(10,(20,3))\n",
    "#print(\"test: \", test)\n",
    "labels=np.array([2, 0, 1, 0, 1, 1, 2, 1, 2, 1, 1, 0, 2, 2, 0, 0, 0, 1, 1, 2])\n",
    "s.score(test,labels)"
   ]
  },
  {
   "cell_type": "code",
   "execution_count": 18,
   "id": "6881437e",
   "metadata": {},
   "outputs": [
    {
     "data": {
      "text/plain": [
       "array([ 0,  1,  2,  3,  4,  5,  6,  7,  8,  9, 10, 11, 12, 13])"
      ]
     },
     "execution_count": 18,
     "metadata": {},
     "output_type": "execute_result"
    }
   ],
   "source": [
    "c=np.arange(0,14)\n",
    "c"
   ]
  },
  {
   "cell_type": "code",
   "execution_count": 19,
   "id": "6ef75315",
   "metadata": {},
   "outputs": [
    {
     "data": {
      "text/plain": [
       "array([inf, inf, inf, inf, inf, inf, inf, inf, inf, inf, inf, inf, inf,\n",
       "       inf, inf, inf, inf, inf, inf, inf])"
      ]
     },
     "execution_count": 19,
     "metadata": {},
     "output_type": "execute_result"
    }
   ],
   "source": [
    "min_dists = np.full(test.shape[0], np.inf)\n",
    "min_dists"
   ]
  },
  {
   "cell_type": "code",
   "execution_count": 20,
   "id": "e66900e6",
   "metadata": {},
   "outputs": [
    {
     "data": {
      "text/plain": [
       "4"
      ]
     },
     "execution_count": 20,
     "metadata": {},
     "output_type": "execute_result"
    }
   ],
   "source": [
    "x=[0,1,2,3,4]\n",
    "np.amax(x)"
   ]
  },
  {
   "cell_type": "code",
   "execution_count": 21,
   "id": "0f0eda94",
   "metadata": {},
   "outputs": [
    {
     "ename": "TypeError",
     "evalue": "'>' not supported between instances of 'list' and 'int'",
     "output_type": "error",
     "traceback": [
      "\u001b[0;31m---------------------------------------------------------------------------\u001b[0m",
      "\u001b[0;31mTypeError\u001b[0m                                 Traceback (most recent call last)",
      "Input \u001b[0;32mIn [21]\u001b[0m, in \u001b[0;36m<cell line: 1>\u001b[0;34m()\u001b[0m\n\u001b[0;32m----> 1\u001b[0m \u001b[43mx\u001b[49m\u001b[38;5;241;43m>\u001b[39;49m\u001b[38;5;241;43m2\u001b[39;49m\n",
      "\u001b[0;31mTypeError\u001b[0m: '>' not supported between instances of 'list' and 'int'"
     ]
    }
   ],
   "source": [
    "x>2"
   ]
  },
  {
   "cell_type": "code",
   "execution_count": 81,
   "id": "4a39dbe2",
   "metadata": {},
   "outputs": [
    {
     "name": "stdout",
     "output_type": "stream",
     "text": [
      "2\n",
      "0\n",
      "1\n",
      "0\n",
      "1\n",
      "1\n",
      "2\n",
      "1\n",
      "2\n",
      "1\n",
      "1\n",
      "0\n",
      "2\n",
      "2\n",
      "0\n",
      "0\n",
      "0\n",
      "1\n",
      "1\n",
      "2\n"
     ]
    }
   ],
   "source": [
    "for i in labels: print(i)"
   ]
  },
  {
   "cell_type": "code",
   "execution_count": 75,
   "id": "ef406b58",
   "metadata": {},
   "outputs": [],
   "source": [
    "p = [4, 4, 2, 3, 8, 9]"
   ]
  },
  {
   "cell_type": "code",
   "execution_count": 147,
   "id": "7428e97f",
   "metadata": {},
   "outputs": [
    {
     "data": {
      "text/plain": [
       "array([6.66666667, 6.33333333, 2.        , 2.        , 4.        ,\n",
       "       5.66666667, 6.66666667, 4.66666667, 4.        , 6.66666667,\n",
       "       3.66666667, 5.        , 6.66666667, 5.        , 3.66666667,\n",
       "       6.        , 7.66666667, 2.        , 2.        , 5.33333333])"
      ]
     },
     "execution_count": 147,
     "metadata": {},
     "output_type": "execute_result"
    }
   ],
   "source": [
    "np.mean(test, axis=1)"
   ]
  },
  {
   "cell_type": "code",
   "execution_count": 23,
   "id": "2aa2672e",
   "metadata": {},
   "outputs": [
    {
     "data": {
      "text/plain": [
       "array([[ 92,  91,  99],\n",
       "       [ 95,  92, 100],\n",
       "       [ 93,  97,  92],\n",
       "       [ 91,  99,  96],\n",
       "       [100,  93,  91],\n",
       "       [ 93,  96,  95],\n",
       "       [100,  96,  92],\n",
       "       [ 97, 100,  93],\n",
       "       [100,  99,  93],\n",
       "       [ 99,  92,  95],\n",
       "       [ 97, 100,  96],\n",
       "       [ 98,  99,  95],\n",
       "       [ 97,  96,  93],\n",
       "       [ 97,  95,  97],\n",
       "       [ 97,  98,  98],\n",
       "       [ 92,  97,  99],\n",
       "       [ 95, 100,  97],\n",
       "       [ 99,  97,  95],\n",
       "       [100,  96,  95],\n",
       "       [100,  95,  94]])"
      ]
     },
     "execution_count": 23,
     "metadata": {},
     "output_type": "execute_result"
    }
   ],
   "source": [
    "100- test"
   ]
  },
  {
   "cell_type": "code",
   "execution_count": 27,
   "id": "8006f41b",
   "metadata": {},
   "outputs": [
    {
     "data": {
      "text/plain": [
       "array([[9, 1, 4]])"
      ]
     },
     "execution_count": 27,
     "metadata": {},
     "output_type": "execute_result"
    }
   ],
   "source": [
    "centroids = test[np.random.choice(20, 1)]\n",
    "centroids"
   ]
  },
  {
   "cell_type": "code",
   "execution_count": 28,
   "id": "fe230d66",
   "metadata": {},
   "outputs": [
    {
     "data": {
      "text/plain": [
       "array([[8, 9, 1],\n",
       "       [5, 8, 0],\n",
       "       [7, 3, 8],\n",
       "       [9, 1, 4],\n",
       "       [0, 7, 9],\n",
       "       [7, 4, 5],\n",
       "       [0, 4, 8],\n",
       "       [3, 0, 7],\n",
       "       [0, 1, 7],\n",
       "       [1, 8, 5],\n",
       "       [3, 0, 4],\n",
       "       [2, 1, 5],\n",
       "       [3, 4, 7],\n",
       "       [3, 5, 3],\n",
       "       [3, 2, 2],\n",
       "       [8, 3, 1],\n",
       "       [5, 0, 3],\n",
       "       [1, 3, 5],\n",
       "       [0, 4, 5],\n",
       "       [0, 5, 6]])"
      ]
     },
     "execution_count": 28,
     "metadata": {},
     "output_type": "execute_result"
    }
   ],
   "source": [
    "test"
   ]
  },
  {
   "cell_type": "code",
   "execution_count": 35,
   "id": "b3bde9b9",
   "metadata": {},
   "outputs": [
    {
     "data": {
      "text/plain": [
       "array([66, 45, 26, 46, 34, 16, 18, 20, 22, 20, 17, 10,  4,  5, 13, 42, 24,\n",
       "        5,  9, 11])"
      ]
     },
     "execution_count": 35,
     "metadata": {},
     "output_type": "execute_result"
    }
   ],
   "source": [
    "t = [3,4,5]\n",
    "np.sum(np.square(t-test), axis =1)"
   ]
  },
  {
   "cell_type": "code",
   "execution_count": 44,
   "id": "8bf1acb9",
   "metadata": {},
   "outputs": [
    {
     "data": {
      "text/plain": [
       "4"
      ]
     },
     "execution_count": 44,
     "metadata": {},
     "output_type": "execute_result"
    }
   ],
   "source": [
    "new = np.amin(np.sum(np.square(t-test), axis =1))\n",
    "new"
   ]
  },
  {
   "cell_type": "code",
   "execution_count": 49,
   "id": "3b112078",
   "metadata": {},
   "outputs": [],
   "source": [
    "\n"
   ]
  },
  {
   "cell_type": "code",
   "execution_count": 51,
   "id": "e9d0ebc1",
   "metadata": {},
   "outputs": [
    {
     "ename": "NameError",
     "evalue": "name 'self' is not defined",
     "output_type": "error",
     "traceback": [
      "\u001b[0;31m---------------------------------------------------------------------------\u001b[0m",
      "\u001b[0;31mNameError\u001b[0m                                 Traceback (most recent call last)",
      "Input \u001b[0;32mIn [51]\u001b[0m, in \u001b[0;36m<cell line: 1>\u001b[0;34m()\u001b[0m\n\u001b[0;32m----> 1\u001b[0m \u001b[38;5;28;43mself\u001b[39;49m\u001b[38;5;241m.\u001b[39minit_centroids(test)\n",
      "\u001b[0;31mNameError\u001b[0m: name 'self' is not defined"
     ]
    }
   ],
   "source": []
  },
  {
   "cell_type": "code",
   "execution_count": null,
   "id": "32671019",
   "metadata": {},
   "outputs": [],
   "source": []
  }
 ],
 "metadata": {
  "kernelspec": {
   "display_name": "Python 3 (ipykernel)",
   "language": "python",
   "name": "python3"
  },
  "language_info": {
   "codemirror_mode": {
    "name": "ipython",
    "version": 3
   },
   "file_extension": ".py",
   "mimetype": "text/x-python",
   "name": "python",
   "nbconvert_exporter": "python",
   "pygments_lexer": "ipython3",
   "version": "3.9.12"
  }
 },
 "nbformat": 4,
 "nbformat_minor": 5
}
