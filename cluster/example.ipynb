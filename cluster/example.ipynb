{
 "cells": [
  {
   "cell_type": "code",
   "execution_count": 12,
   "id": "838dfcf7",
   "metadata": {},
   "outputs": [],
   "source": [
    "import numpy as np\n",
    "from scipy.spatial.distance import cdist\n"
   ]
  },
  {
   "cell_type": "code",
   "execution_count": 7,
   "id": "87922e08",
   "metadata": {},
   "outputs": [
    {
     "data": {
      "text/plain": [
       "array([569, 159, 512])"
      ]
     },
     "execution_count": 7,
     "metadata": {},
     "output_type": "execute_result"
    }
   ],
   "source": [
    "np.random.choice(1000,3,replace=False)"
   ]
  },
  {
   "cell_type": "code",
   "execution_count": 26,
   "id": "86d678b6",
   "metadata": {},
   "outputs": [
    {
     "name": "stdout",
     "output_type": "stream",
     "text": [
      "[[6 6 6]\n",
      " [6 3 8]\n",
      " [1 8 9]\n",
      " [5 3 6]\n",
      " [5 9 8]\n",
      " [4 6 8]\n",
      " [3 7 1]\n",
      " [5 4 9]\n",
      " [7 5 6]\n",
      " [5 7 6]\n",
      " [0 7 6]\n",
      " [4 1 3]\n",
      " [7 6 0]\n",
      " [8 7 4]\n",
      " [9 4 4]\n",
      " [3 2 6]\n",
      " [7 4 6]\n",
      " [5 6 7]\n",
      " [6 5 8]\n",
      " [9 9 1]]\n",
      "\n",
      " [[6 3 8]\n",
      " [7 4 6]\n",
      " [9 4 4]\n",
      " [4 6 8]\n",
      " [6 6 6]]\n"
     ]
    }
   ],
   "source": [
    "test = np.random.choice(10,(20,3))\n",
    "print(test)\n",
    "centroids = test[np.random.choice(20,5)]\n",
    "print(\"\\n\", centroids)"
   ]
  },
  {
   "cell_type": "code",
   "execution_count": 27,
   "id": "06fc34a3",
   "metadata": {},
   "outputs": [
    {
     "data": {
      "text/plain": [
       "array([[ 3.60555128,  2.23606798,  4.12310563,  2.82842712,  0.        ],\n",
       "       [ 0.        ,  2.44948974,  5.09901951,  3.60555128,  3.60555128],\n",
       "       [ 7.14142843,  7.81024968, 10.24695077,  3.74165739,  6.164414  ],\n",
       "       [ 2.23606798,  2.23606798,  4.58257569,  3.74165739,  3.16227766],\n",
       "       [ 6.08276253,  5.74456265,  7.54983444,  3.16227766,  3.74165739],\n",
       "       [ 3.60555128,  4.12310563,  6.70820393,  0.        ,  2.82842712],\n",
       "       [ 8.60232527,  7.07106781,  7.34846923,  7.14142843,  5.91607978],\n",
       "       [ 1.73205081,  3.60555128,  6.40312424,  2.44948974,  3.74165739],\n",
       "       [ 3.        ,  1.        ,  3.        ,  3.74165739,  1.41421356],\n",
       "       [ 4.58257569,  3.60555128,  5.38516481,  2.44948974,  1.41421356],\n",
       "       [ 7.48331477,  7.61577311,  9.69535971,  4.58257569,  6.08276253],\n",
       "       [ 5.74456265,  5.19615242,  5.91607978,  7.07106781,  6.164414  ],\n",
       "       [ 8.60232527,  6.32455532,  4.89897949,  8.54400375,  6.08276253],\n",
       "       [ 6.        ,  3.74165739,  3.16227766,  5.74456265,  3.        ],\n",
       "       [ 5.09901951,  2.82842712,  0.        ,  6.70820393,  4.12310563],\n",
       "       [ 3.74165739,  4.47213595,  6.63324958,  4.58257569,  5.        ],\n",
       "       [ 2.44948974,  0.        ,  2.82842712,  4.12310563,  2.23606798],\n",
       "       [ 3.31662479,  3.        ,  5.38516481,  1.41421356,  1.41421356],\n",
       "       [ 2.        ,  2.44948974,  5.09901951,  2.23606798,  2.23606798],\n",
       "       [ 9.69535971,  7.34846923,  5.83095189,  9.11043358,  6.55743852]])"
      ]
     },
     "execution_count": 27,
     "metadata": {},
     "output_type": "execute_result"
    }
   ],
   "source": [
    "cdist(test, centroids)"
   ]
  },
  {
   "cell_type": "code",
   "execution_count": 36,
   "id": "e24505e0",
   "metadata": {},
   "outputs": [
    {
     "data": {
      "text/plain": [
       "array([4, 0, 3, 0, 3, 3, 4, 0, 1, 4, 3, 1, 2, 4, 2, 0, 1, 3, 0, 2])"
      ]
     },
     "execution_count": 36,
     "metadata": {},
     "output_type": "execute_result"
    }
   ],
   "source": [
    "np.argmin(cdist(test, centroids, metric=\"euclidean\"), axis=1)"
   ]
  },
  {
   "cell_type": "code",
   "execution_count": 37,
   "id": "e582d0e1",
   "metadata": {},
   "outputs": [
    {
     "data": {
      "text/plain": [
       "inf"
      ]
     },
     "execution_count": 37,
     "metadata": {},
     "output_type": "execute_result"
    }
   ],
   "source": [
    "np.inf"
   ]
  },
  {
   "cell_type": "code",
   "execution_count": 40,
   "id": "364f0520",
   "metadata": {},
   "outputs": [
    {
     "data": {
      "text/plain": [
       "array([[0., 0., 0.],\n",
       "       [0., 0., 0.],\n",
       "       [0., 0., 0.]])"
      ]
     },
     "execution_count": 40,
     "metadata": {},
     "output_type": "execute_result"
    }
   ],
   "source": [
    "np.zeros((3,3))"
   ]
  },
  {
   "cell_type": "code",
   "execution_count": 44,
   "id": "7932fcab",
   "metadata": {},
   "outputs": [
    {
     "data": {
      "text/plain": [
       "580"
      ]
     },
     "execution_count": 44,
     "metadata": {},
     "output_type": "execute_result"
    }
   ],
   "source": [
    "np.sum(np.square(test - centroids[0]))"
   ]
  },
  {
   "cell_type": "code",
   "execution_count": 111,
   "id": "ca1084d2",
   "metadata": {},
   "outputs": [],
   "source": [
    "import numpy as np\n",
    "from scipy.spatial.distance import cdist\n",
    "\n",
    "\n",
    "class KMeans:\n",
    "    def __init__(self, k: int, tol: float = 1e-6, max_iter: int = 100):\n",
    "        \"\"\"\n",
    "        In this method you should initialize whatever attributes will be required for the class.\n",
    "\n",
    "        You can also do some basic error handling.\n",
    "\n",
    "        What should happen if the user provides the wrong input or wrong type of input for the\n",
    "        argument k?\n",
    "\n",
    "        inputs:\n",
    "            k: int\n",
    "                the number of centroids to use in cluster fitting\n",
    "            tol: float\n",
    "                the minimum error tolerance from previous error during optimization to quit the model fit\n",
    "            max_iter: int\n",
    "                the maximum number of iterations before quitting model fit\n",
    "        \"\"\"\n",
    "\n",
    "        if k <= 0: raise Exception(\"k must be a positive integer\") #TypeError\n",
    "\n",
    "        self.k = k\n",
    "        self.tol = tol\n",
    "        self.max_iter = max_iter\n",
    "\n",
    "    def fit(self, mat: np.ndarray):\n",
    "        \"\"\"\n",
    "        Fits the kmeans algorithm onto a provided 2D matrix.\n",
    "        As a bit of background, this method should not return anything.\n",
    "        The intent here is to have this method find the k cluster centers from the data\n",
    "        with the tolerance, then you will use .predict() to identify the\n",
    "        clusters that best match some data that is provided.\n",
    "\n",
    "        In sklearn there is also a fit_predict() method that combines these\n",
    "        functions, but for now we will have you implement them both separately.\n",
    "\n",
    "        inputs:\n",
    "            mat: np.ndarray\n",
    "                A 2D matrix where the rows are observations and columns are features\n",
    "        \"\"\"\n",
    "\n",
    "        self.mat = mat\n",
    "        self.observations, self.features = self.mat.shape\n",
    "\n",
    "        if self.observations < self.k: raise Exception(\"Cannot assign \" + str(self.observations) + \" observations to \" + str(self.k) + \" clusters\")\n",
    "\n",
    "        self.centroids = mat[np.random.choice(self.observations, self.k, replace=False)]\n",
    "        self.pred_labels = np.zeros((self.observations, 1))\n",
    "     \n",
    "        i = 0\n",
    "        error = np.inf\n",
    "\n",
    "        while i < self.max_iter and error > self.tol:\n",
    "            self.pred_labels = self.predict(self.mat)\n",
    "            print(\"pred labels: \", self.pred_labels)\n",
    "            self.centroids = self.get_centroids()\n",
    "            if i == 1: error = self.get_error()\n",
    "            else: error = error - self.get_error()\n",
    "            i += 1\n",
    "\n",
    "\n",
    "    def predict(self, mat: np.ndarray) -> np.ndarray:\n",
    "        \"\"\"\n",
    "        Predicts the cluster labels for a provided matrix of data points--\n",
    "            question: what sorts of data inputs here would prevent the code from running?\n",
    "            How would you catch these sorts of end-user related errors?\n",
    "            What if, for example, the matrix is of a different number of features than\n",
    "            the data that the clusters were fit on?\n",
    "\n",
    "        inputs:\n",
    "            mat: np.ndarray\n",
    "                A 2D matrix where the rows are observations and columns are features\n",
    "\n",
    "        outputs:\n",
    "            np.ndarray\n",
    "                a 1D array with the cluster label for each of the observations in `mat`\n",
    "        \"\"\"\n",
    "        \n",
    "        return np.argmin(cdist(self.mat, self.centroids, metric=\"euclidean\"), axis=1)\n",
    "\n",
    "\n",
    "    def get_error(self) -> float:\n",
    "        \"\"\"\n",
    "        Returns the final squared-mean error of the fit model. You can either do this by storing the\n",
    "        original dataset or recording it following the end of model fitting.\n",
    "\n",
    "        outputs:\n",
    "            float\n",
    "                the squared-mean error of the fit model\n",
    "        \"\"\"\n",
    "        mse = np.zeros(self.k)\n",
    "\n",
    "        for cluster in range(self.k):\n",
    "            mse[cluster] = np.sum(np.square(self.mat[cluster == self.pred_labels[cluster]] - self.centroids[cluster]))\n",
    "        return np.sum(mse)\n",
    "\n",
    "    def get_centroids(self) -> np.ndarray:\n",
    "        \"\"\"\n",
    "        Returns the centroid locations of the fit model.\n",
    "\n",
    "        outputs:\n",
    "            np.ndarray\n",
    "                a `k x m` 2D matrix representing the cluster centroids of the fit model\n",
    "        \"\"\"\n",
    "\n",
    "        fit_centroids = np.zeros((self.k, self.features))\n",
    "\n",
    "        for cluster in range(self.k):\n",
    "            #print(\"centroids fit: \", self.mat[cluster == self.pred_labels, :])\n",
    "            #break\n",
    "            fit_centroids[cluster, :] = np.mean(self.mat[cluster == self.pred_labels, :], axis = 0)\n",
    "\n",
    "        return fit_centroids\n",
    "\n",
    "\n"
   ]
  },
  {
   "cell_type": "code",
   "execution_count": 112,
   "id": "eda63e1c",
   "metadata": {},
   "outputs": [
    {
     "data": {
      "text/plain": [
       "<__main__.KMeans at 0x7fde189ebac0>"
      ]
     },
     "execution_count": 112,
     "metadata": {},
     "output_type": "execute_result"
    }
   ],
   "source": [
    "new = KMeans(3)\n",
    "new"
   ]
  },
  {
   "cell_type": "code",
   "execution_count": 113,
   "id": "fe66f353",
   "metadata": {},
   "outputs": [
    {
     "name": "stdout",
     "output_type": "stream",
     "text": [
      "pred labels:  [0 1 0 1 0 0 0 0 1 0 0 1 2 2 2 1 1 0 0 2]\n",
      "pred labels:  [0 1 0 1 0 0 2 1 1 0 0 1 2 2 2 1 1 0 0 2]\n",
      "pred labels:  [0 1 0 1 0 0 2 1 1 0 0 1 2 2 2 1 1 0 1 2]\n"
     ]
    }
   ],
   "source": [
    "new.fit(test)"
   ]
  },
  {
   "cell_type": "code",
   "execution_count": null,
   "id": "5afafcdf",
   "metadata": {},
   "outputs": [],
   "source": []
  }
 ],
 "metadata": {
  "kernelspec": {
   "display_name": "Python 3 (ipykernel)",
   "language": "python",
   "name": "python3"
  },
  "language_info": {
   "codemirror_mode": {
    "name": "ipython",
    "version": 3
   },
   "file_extension": ".py",
   "mimetype": "text/x-python",
   "name": "python",
   "nbconvert_exporter": "python",
   "pygments_lexer": "ipython3",
   "version": "3.9.12"
  }
 },
 "nbformat": 4,
 "nbformat_minor": 5
}
