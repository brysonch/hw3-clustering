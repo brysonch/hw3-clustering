{
 "cells": [
  {
   "cell_type": "code",
   "execution_count": 12,
   "id": "838dfcf7",
   "metadata": {},
   "outputs": [],
   "source": [
    "import numpy as np\n",
    "from scipy.spatial.distance import cdist\n"
   ]
  },
  {
   "cell_type": "code",
   "execution_count": 7,
   "id": "87922e08",
   "metadata": {},
   "outputs": [
    {
     "data": {
      "text/plain": [
       "array([569, 159, 512])"
      ]
     },
     "execution_count": 7,
     "metadata": {},
     "output_type": "execute_result"
    }
   ],
   "source": [
    "np.random.choice(1000,3,replace=False)"
   ]
  },
  {
   "cell_type": "code",
   "execution_count": 26,
   "id": "86d678b6",
   "metadata": {},
   "outputs": [
    {
     "name": "stdout",
     "output_type": "stream",
     "text": [
      "[[6 6 6]\n",
      " [6 3 8]\n",
      " [1 8 9]\n",
      " [5 3 6]\n",
      " [5 9 8]\n",
      " [4 6 8]\n",
      " [3 7 1]\n",
      " [5 4 9]\n",
      " [7 5 6]\n",
      " [5 7 6]\n",
      " [0 7 6]\n",
      " [4 1 3]\n",
      " [7 6 0]\n",
      " [8 7 4]\n",
      " [9 4 4]\n",
      " [3 2 6]\n",
      " [7 4 6]\n",
      " [5 6 7]\n",
      " [6 5 8]\n",
      " [9 9 1]]\n",
      "\n",
      " [[6 3 8]\n",
      " [7 4 6]\n",
      " [9 4 4]\n",
      " [4 6 8]\n",
      " [6 6 6]]\n"
     ]
    }
   ],
   "source": [
    "test = np.random.choice(10,(20,3))\n",
    "print(test)\n",
    "centroids = test[np.random.choice(20,5)]\n",
    "print(\"\\n\", centroids)"
   ]
  },
  {
   "cell_type": "code",
   "execution_count": 27,
   "id": "06fc34a3",
   "metadata": {},
   "outputs": [
    {
     "data": {
      "text/plain": [
       "array([[ 3.60555128,  2.23606798,  4.12310563,  2.82842712,  0.        ],\n",
       "       [ 0.        ,  2.44948974,  5.09901951,  3.60555128,  3.60555128],\n",
       "       [ 7.14142843,  7.81024968, 10.24695077,  3.74165739,  6.164414  ],\n",
       "       [ 2.23606798,  2.23606798,  4.58257569,  3.74165739,  3.16227766],\n",
       "       [ 6.08276253,  5.74456265,  7.54983444,  3.16227766,  3.74165739],\n",
       "       [ 3.60555128,  4.12310563,  6.70820393,  0.        ,  2.82842712],\n",
       "       [ 8.60232527,  7.07106781,  7.34846923,  7.14142843,  5.91607978],\n",
       "       [ 1.73205081,  3.60555128,  6.40312424,  2.44948974,  3.74165739],\n",
       "       [ 3.        ,  1.        ,  3.        ,  3.74165739,  1.41421356],\n",
       "       [ 4.58257569,  3.60555128,  5.38516481,  2.44948974,  1.41421356],\n",
       "       [ 7.48331477,  7.61577311,  9.69535971,  4.58257569,  6.08276253],\n",
       "       [ 5.74456265,  5.19615242,  5.91607978,  7.07106781,  6.164414  ],\n",
       "       [ 8.60232527,  6.32455532,  4.89897949,  8.54400375,  6.08276253],\n",
       "       [ 6.        ,  3.74165739,  3.16227766,  5.74456265,  3.        ],\n",
       "       [ 5.09901951,  2.82842712,  0.        ,  6.70820393,  4.12310563],\n",
       "       [ 3.74165739,  4.47213595,  6.63324958,  4.58257569,  5.        ],\n",
       "       [ 2.44948974,  0.        ,  2.82842712,  4.12310563,  2.23606798],\n",
       "       [ 3.31662479,  3.        ,  5.38516481,  1.41421356,  1.41421356],\n",
       "       [ 2.        ,  2.44948974,  5.09901951,  2.23606798,  2.23606798],\n",
       "       [ 9.69535971,  7.34846923,  5.83095189,  9.11043358,  6.55743852]])"
      ]
     },
     "execution_count": 27,
     "metadata": {},
     "output_type": "execute_result"
    }
   ],
   "source": [
    "cdist(test, centroids)"
   ]
  },
  {
   "cell_type": "code",
   "execution_count": 36,
   "id": "e24505e0",
   "metadata": {},
   "outputs": [
    {
     "data": {
      "text/plain": [
       "array([4, 0, 3, 0, 3, 3, 4, 0, 1, 4, 3, 1, 2, 4, 2, 0, 1, 3, 0, 2])"
      ]
     },
     "execution_count": 36,
     "metadata": {},
     "output_type": "execute_result"
    }
   ],
   "source": [
    "np.argmin(cdist(test, centroids, metric=\"euclidean\"), axis=1)"
   ]
  },
  {
   "cell_type": "code",
   "execution_count": 37,
   "id": "8b01d993",
   "metadata": {},
   "outputs": [
    {
     "data": {
      "text/plain": [
       "inf"
      ]
     },
     "execution_count": 37,
     "metadata": {},
     "output_type": "execute_result"
    }
   ],
   "source": [
    "np.inf"
   ]
  },
  {
   "cell_type": "code",
   "execution_count": 40,
   "id": "65b8f754",
   "metadata": {},
   "outputs": [
    {
     "data": {
      "text/plain": [
       "array([[0., 0., 0.],\n",
       "       [0., 0., 0.],\n",
       "       [0., 0., 0.]])"
      ]
     },
     "execution_count": 40,
     "metadata": {},
     "output_type": "execute_result"
    }
   ],
   "source": [
    "np.zeros((3,3))"
   ]
  },
  {
   "cell_type": "code",
   "execution_count": 44,
   "id": "e64be1a4",
   "metadata": {},
   "outputs": [
    {
     "data": {
      "text/plain": [
       "580"
      ]
     },
     "execution_count": 44,
     "metadata": {},
     "output_type": "execute_result"
    }
   ],
   "source": [
    "np.sum(np.square(test - centroids[0]))"
   ]
  },
  {
   "cell_type": "code",
   "execution_count": 122,
   "id": "c822a1ec",
   "metadata": {},
   "outputs": [],
   "source": [
    "import numpy as np\n",
    "from scipy.spatial.distance import cdist\n",
    "\n",
    "\n",
    "class KMeans:\n",
    "    def __init__(self, k: int, tol: float = 1e-6, max_iter: int = 100):\n",
    "        \"\"\"\n",
    "        In this method you should initialize whatever attributes will be required for the class.\n",
    "\n",
    "        You can also do some basic error handling.\n",
    "\n",
    "        What should happen if the user provides the wrong input or wrong type of input for the\n",
    "        argument k?\n",
    "\n",
    "        inputs:\n",
    "            k: int\n",
    "                the number of centroids to use in cluster fitting\n",
    "            tol: float\n",
    "                the minimum error tolerance from previous error during optimization to quit the model fit\n",
    "            max_iter: int\n",
    "                the maximum number of iterations before quitting model fit\n",
    "        \"\"\"\n",
    "\n",
    "        if k <= 0: raise Exception(\"k must be a positive integer\") #TypeError\n",
    "\n",
    "        self.k = k\n",
    "        self.tol = tol\n",
    "        self.max_iter = max_iter\n",
    "\n",
    "    def fit(self, mat: np.ndarray):\n",
    "        \"\"\"\n",
    "        Fits the kmeans algorithm onto a provided 2D matrix.\n",
    "        As a bit of background, this method should not return anything.\n",
    "        The intent here is to have this method find the k cluster centers from the data\n",
    "        with the tolerance, then you will use .predict() to identify the\n",
    "        clusters that best match some data that is provided.\n",
    "\n",
    "        In sklearn there is also a fit_predict() method that combines these\n",
    "        functions, but for now we will have you implement them both separately.\n",
    "\n",
    "        inputs:\n",
    "            mat: np.ndarray\n",
    "                A 2D matrix where the rows are observations and columns are features\n",
    "        \"\"\"\n",
    "\n",
    "        self.mat = mat\n",
    "        self.observations, self.features = self.mat.shape\n",
    "\n",
    "        if self.observations < self.k: raise Exception(\"Cannot assign \" + str(self.observations) + \" observations to \" + str(self.k) + \" clusters\")\n",
    "\n",
    "        self.centroids = mat[np.random.choice(self.observations, self.k, replace=False)]\n",
    "        self.pred_labels = np.zeros((self.observations, 1))\n",
    "     \n",
    "        i = 0\n",
    "        error = np.inf\n",
    "\n",
    "        while i < self.max_iter and error > self.tol:\n",
    "            self.pred_labels = self.predict(self.mat)\n",
    "            print(\"pred labels: \", self.pred_labels)\n",
    "            self.centroids = self.get_centroids()\n",
    "            print(\"centroids: \", self.centroids)\n",
    "            if i == 1: error = self.get_error()\n",
    "            else: error -= self.get_error()\n",
    "            i += 1\n",
    "\n",
    "\n",
    "    def predict(self, mat: np.ndarray) -> np.ndarray:\n",
    "        \"\"\"\n",
    "        Predicts the cluster labels for a provided matrix of data points--\n",
    "            question: what sorts of data inputs here would prevent the code from running?\n",
    "            How would you catch these sorts of end-user related errors?\n",
    "            What if, for example, the matrix is of a different number of features than\n",
    "            the data that the clusters were fit on?\n",
    "\n",
    "        inputs:\n",
    "            mat: np.ndarray\n",
    "                A 2D matrix where the rows are observations and columns are features\n",
    "\n",
    "        outputs:\n",
    "            np.ndarray\n",
    "                a 1D array with the cluster label for each of the observations in `mat`\n",
    "        \"\"\"\n",
    "        \n",
    "        return np.argmin(cdist(self.mat, self.centroids, metric=\"euclidean\"), axis=1)\n",
    "\n",
    "\n",
    "    def get_error(self) -> float:\n",
    "        \"\"\"\n",
    "        Returns the final squared-mean error of the fit model. You can either do this by storing the\n",
    "        original dataset or recording it following the end of model fitting.\n",
    "\n",
    "        outputs:\n",
    "            float\n",
    "                the squared-mean error of the fit model\n",
    "        \"\"\"\n",
    "        mse = np.zeros(self.k)\n",
    "\n",
    "        for cluster in range(self.k):\n",
    "            mse[cluster] = np.sum(np.square(self.mat[cluster == self.pred_labels] - self.centroids[cluster]))\n",
    "        return np.sum(mse)\n",
    "\n",
    "    def get_centroids(self) -> np.ndarray:\n",
    "        \"\"\"\n",
    "        Returns the centroid locations of the fit model.\n",
    "\n",
    "        outputs:\n",
    "            np.ndarray\n",
    "                a `k x m` 2D matrix representing the cluster centroids of the fit model\n",
    "        \"\"\"\n",
    "\n",
    "        fit_centroids = np.zeros((self.k, self.features))\n",
    "\n",
    "        for cluster in range(self.k):\n",
    "            #print(\"centroids fit: \", self.mat[cluster == self.pred_labels, :])\n",
    "            #break\n",
    "            fit_centroids[cluster, :] = np.mean(self.mat[cluster == self.pred_labels, :], axis = 0)\n",
    "\n",
    "        return fit_centroids\n",
    "\n",
    "\n"
   ]
  },
  {
   "cell_type": "code",
   "execution_count": 123,
   "id": "72b0bf68",
   "metadata": {},
   "outputs": [
    {
     "data": {
      "text/plain": [
       "<__main__.KMeans at 0x7fde189ead90>"
      ]
     },
     "execution_count": 123,
     "metadata": {},
     "output_type": "execute_result"
    }
   ],
   "source": [
    "new = KMeans(3)\n",
    "new"
   ]
  },
  {
   "cell_type": "code",
   "execution_count": 124,
   "id": "33d9f765",
   "metadata": {},
   "outputs": [
    {
     "name": "stdout",
     "output_type": "stream",
     "text": [
      "pred labels:  [2 0 1 0 1 1 2 1 2 1 1 0 2 2 0 0 0 1 1 2]\n",
      "centroids:  [[5.66666667 2.83333333 5.5       ]\n",
      " [3.875      6.5        7.625     ]\n",
      " [6.66666667 6.66666667 3.        ]]\n",
      "pred labels:  [1 0 1 0 1 1 2 1 0 1 1 0 2 2 2 0 0 1 1 2]\n",
      "centroids:  [[5.33333333 3.         5.83333333]\n",
      " [4.11111111 6.44444444 7.44444444]\n",
      " [7.2        6.6        2.        ]]\n",
      "pred labels:  [1 0 1 0 1 1 2 1 0 1 1 0 2 2 2 0 0 1 1 2]\n",
      "centroids:  [[5.33333333 3.         5.83333333]\n",
      " [4.11111111 6.44444444 7.44444444]\n",
      " [7.2        6.6        2.        ]]\n"
     ]
    }
   ],
   "source": [
    "new.fit(test)"
   ]
  },
  {
   "cell_type": "code",
   "execution_count": 121,
   "id": "35482a15",
   "metadata": {},
   "outputs": [
    {
     "ename": "ModuleNotFoundError",
     "evalue": "No module named 'cluster'",
     "output_type": "error",
     "traceback": [
      "\u001b[0;31m---------------------------------------------------------------------------\u001b[0m",
      "\u001b[0;31mModuleNotFoundError\u001b[0m                       Traceback (most recent call last)",
      "Input \u001b[0;32mIn [121]\u001b[0m, in \u001b[0;36m<cell line: 2>\u001b[0;34m()\u001b[0m\n\u001b[1;32m      1\u001b[0m \u001b[38;5;28;01mimport\u001b[39;00m \u001b[38;5;21;01mnumpy\u001b[39;00m \u001b[38;5;28;01mas\u001b[39;00m \u001b[38;5;21;01mnp\u001b[39;00m\n\u001b[0;32m----> 2\u001b[0m \u001b[38;5;28;01mimport\u001b[39;00m \u001b[38;5;21;01mcluster\u001b[39;00m\n\u001b[1;32m      3\u001b[0m \u001b[38;5;28;01mfrom\u001b[39;00m \u001b[38;5;21;01mcluster\u001b[39;00m \u001b[38;5;28;01mimport\u001b[39;00m (\n\u001b[1;32m      4\u001b[0m         KMeans, \n\u001b[1;32m      5\u001b[0m         Silhouette, \n\u001b[1;32m      6\u001b[0m         make_clusters,\n\u001b[1;32m      7\u001b[0m         plot_clusters,\n\u001b[1;32m      8\u001b[0m         plot_multipanel)\n\u001b[1;32m     11\u001b[0m \u001b[38;5;28;01mdef\u001b[39;00m \u001b[38;5;21mmain\u001b[39m():\n\u001b[1;32m     12\u001b[0m \n\u001b[1;32m     13\u001b[0m     \u001b[38;5;66;03m# create tight clusters\u001b[39;00m\n",
      "\u001b[0;31mModuleNotFoundError\u001b[0m: No module named 'cluster'"
     ]
    }
   ],
   "source": [
    "import numpy as np\n",
    "from cluster import (\n",
    "        KMeans, \n",
    "        Silhouette, \n",
    "        make_clusters,\n",
    "        plot_clusters,\n",
    "        plot_multipanel)\n",
    "\n",
    "\n",
    "def main():\n",
    "\n",
    "    # create tight clusters\n",
    "    clusters, labels = make_clusters(scale=0.3)\n",
    "    plot_clusters(clusters, labels, filename=\"figures/tight_clusters.png\")\n",
    "\n",
    "    # create loose clusters\n",
    "    clusters, labels = make_clusters(scale=2)\n",
    "    plot_clusters(clusters, labels, filename=\"figures/loose_clusters.png\")\n",
    "\n",
    "    \"\"\"\n",
    "    uncomment this section once you are ready to visualize your kmeans + silhouette implementation\n",
    "    \"\"\"\n",
    "    clusters, labels = make_clusters(k=4, scale=1)\n",
    "    km = KMeans(k=4)\n",
    "    km.fit(clusters)\n",
    "    pred = km.predict(clusters)\n",
    "    #scores = Silhouette().score(clusters, pred)\n",
    "    plot_multipanel(clusters, labels, pred, scores)\n",
    "    \n",
    "\n",
    "if __name__ == \"__main__\":\n",
    "    main()\n"
   ]
  },
  {
   "cell_type": "code",
   "execution_count": 179,
   "id": "e6ba14a7",
   "metadata": {},
   "outputs": [
    {
     "ename": "ValueError",
     "evalue": "XA must be a 2-dimensional array.",
     "output_type": "error",
     "traceback": [
      "\u001b[0;31m---------------------------------------------------------------------------\u001b[0m",
      "\u001b[0;31mValueError\u001b[0m                                Traceback (most recent call last)",
      "Input \u001b[0;32mIn [179]\u001b[0m, in \u001b[0;36m<cell line: 2>\u001b[0;34m()\u001b[0m\n\u001b[1;32m      1\u001b[0m a \u001b[38;5;241m=\u001b[39m [\u001b[38;5;241m2\u001b[39m,\u001b[38;5;241m5\u001b[39m,\u001b[38;5;241m4\u001b[39m]\n\u001b[0;32m----> 2\u001b[0m \u001b[43mcdist\u001b[49m\u001b[43m(\u001b[49m\u001b[43ma\u001b[49m\u001b[43m,\u001b[49m\u001b[43mtest\u001b[49m\u001b[43m,\u001b[49m\u001b[43mmetric\u001b[49m\u001b[38;5;241;43m=\u001b[39;49m\u001b[38;5;124;43m\"\u001b[39;49m\u001b[38;5;124;43meuclidean\u001b[39;49m\u001b[38;5;124;43m\"\u001b[39;49m\u001b[43m)\u001b[49m\n",
      "File \u001b[0;32m~/opt/anaconda3/lib/python3.9/site-packages/scipy/spatial/distance.py:2931\u001b[0m, in \u001b[0;36mcdist\u001b[0;34m(XA, XB, metric, out, **kwargs)\u001b[0m\n\u001b[1;32m   2928\u001b[0m sB \u001b[38;5;241m=\u001b[39m XB\u001b[38;5;241m.\u001b[39mshape\n\u001b[1;32m   2930\u001b[0m \u001b[38;5;28;01mif\u001b[39;00m \u001b[38;5;28mlen\u001b[39m(s) \u001b[38;5;241m!=\u001b[39m \u001b[38;5;241m2\u001b[39m:\n\u001b[0;32m-> 2931\u001b[0m     \u001b[38;5;28;01mraise\u001b[39;00m \u001b[38;5;167;01mValueError\u001b[39;00m(\u001b[38;5;124m'\u001b[39m\u001b[38;5;124mXA must be a 2-dimensional array.\u001b[39m\u001b[38;5;124m'\u001b[39m)\n\u001b[1;32m   2932\u001b[0m \u001b[38;5;28;01mif\u001b[39;00m \u001b[38;5;28mlen\u001b[39m(sB) \u001b[38;5;241m!=\u001b[39m \u001b[38;5;241m2\u001b[39m:\n\u001b[1;32m   2933\u001b[0m     \u001b[38;5;28;01mraise\u001b[39;00m \u001b[38;5;167;01mValueError\u001b[39;00m(\u001b[38;5;124m'\u001b[39m\u001b[38;5;124mXB must be a 2-dimensional array.\u001b[39m\u001b[38;5;124m'\u001b[39m)\n",
      "\u001b[0;31mValueError\u001b[0m: XA must be a 2-dimensional array."
     ]
    }
   ],
   "source": [
    "a = [2,5,4]\n",
    "cdist(a,test,metric=\"euclidean\")"
   ]
  },
  {
   "cell_type": "code",
   "execution_count": 177,
   "id": "69092e90",
   "metadata": {},
   "outputs": [
    {
     "data": {
      "text/plain": [
       "array([3.74426622, 4.73603335, 6.73372451, 4.28782175, 5.47567758,\n",
       "       4.34892232, 6.47463949, 4.84355049, 3.95488106, 4.00596311,\n",
       "       6.45355598, 6.33059406, 6.7427907 , 5.0094995 , 5.49479789,\n",
       "       5.36490982, 4.14291871, 3.81448922, 4.16456103, 7.56206616])"
      ]
     },
     "execution_count": 177,
     "metadata": {},
     "output_type": "execute_result"
    }
   ],
   "source": [
    "#print(test)\n",
    "dists = cdist(test, test, metric=\"euclidean\")\n",
    "np.sum(dists, axis=1)/(dists.shape[0] - 1)\n",
    "#== np.mean(dists, axis=1)\n",
    "#dists\n",
    "#print(dists, \"\\n\\n\\n\\n\\n\")\n",
    "#dists.ravel()[::dists.shape[1]+1] = dists.max()+1\n",
    "#print(dists)\n",
    "#print(test[dists.argmin(1)])\n",
    "#np.triu(dists)"
   ]
  },
  {
   "cell_type": "code",
   "execution_count": 305,
   "id": "162db7d4",
   "metadata": {},
   "outputs": [],
   "source": [
    "import numpy as np\n",
    "from scipy.spatial.distance import cdist\n",
    "\n",
    "\n",
    "class Silhouette:\n",
    "    def __init__(self):\n",
    "        \"\"\"\n",
    "        inputs:\n",
    "            none\n",
    "        \"\"\"\n",
    "\n",
    "    def score(self, X: np.ndarray, y: np.ndarray) -> np.ndarray:\n",
    "        \"\"\"\n",
    "        calculates the silhouette score for each of the observations\n",
    "\n",
    "        inputs:\n",
    "            X: np.ndarray\n",
    "                A 2D matrix where the rows are observations and columns are features.\n",
    "\n",
    "            y: np.ndarray\n",
    "                a 1D array representing the cluster labels for each of the observations in `X`\n",
    "\n",
    "        outputs:\n",
    "            np.ndarray\n",
    "                a 1D array with the silhouette scores for each of the observations in `X`\n",
    "        \"\"\"\n",
    "\n",
    "        nclusters = np.amax(y) + 1\n",
    "        nobs, nlabels = X.shape\n",
    "        labels = np.arange(0, np.amax(y))\n",
    "        a = np.zeros(nobs)\n",
    "\n",
    "        for cluster in labels:\n",
    "            \n",
    "            rows, cols = np.where(X[cluster == y])\n",
    "\n",
    "            cluster_type = X[cluster == y]\n",
    "            print(\"cluster type: \", cluster_type)\n",
    "            print(\"inds: \", rows)\n",
    "            dists = cdist(cluster_type, cluster_type, metric=\"euclidean\")\n",
    "            \n",
    "            #print(\"shape a: \", a[inds].shape)\n",
    "            #print(\"shape mean: \", (np.sum(dists, axis=1) / (dists.shape[0] - 1)).shape)\n",
    "            #print(\"inds: \", inds)\n",
    "            #a[inds] = np.sum(dists, axis=1) / (dists.shape[0] - 1)\n",
    "\n",
    "        b = np.zeros(nobs)\n",
    "\n",
    "        for cluster in labels:\n",
    "            #cluster_type = X[cluster != y]\n",
    "            other_labels = np.delete(labels, cluster)\n",
    "            min_dists = np.full(X[cluster == y].shape[0], np.inf)\n",
    "            inds = np.where(X[cluster == y])\n",
    "            \n",
    "            for other_cluster in other_labels:\n",
    "                cluster_type = X[other_cluster == y]\n",
    "\n",
    "                dists = cdist(cluster_type, cluster_type, metric=\"euclidean\")\n",
    "                avg_dists_per_cluster = np.mean(dists, axis=1)\n",
    "                min_dists = np.minimum(avg_dists_per_cluster, min_dists)\n",
    "\n",
    "            b[inds] = min_dists\n",
    "\n",
    "        return (b - a) / (np.maximum(a, b))\n",
    "\n",
    "\n",
    "            #dists.ravel()[::dists.shape[1]+1] = dists.max()+1\n",
    "            #test[dists.argmin(1)]\n",
    "\n",
    "            #for obs in range(obs_in_cluster):\n",
    "                # do not include pt itself\n",
    "                #cdist(cluster_type[obs], cluster_type, metric=\"euclidean\")\n",
    "\n"
   ]
  },
  {
   "cell_type": "code",
   "execution_count": 306,
   "id": "40263d10",
   "metadata": {},
   "outputs": [
    {
     "name": "stdout",
     "output_type": "stream",
     "text": [
      "mean before:  [6.         8.         5.66666667 3.66666667 1.66666667 2.33333333\n",
      " 3.66666667 3.33333333 6.33333333 6.         3.         4.\n",
      " 4.         5.         7.33333333 4.33333333 6.         2.66666667\n",
      " 4.         3.66666667]\n",
      "ind:  (array([ 1,  3, 11, 14, 15, 16]),)\n",
      "mean after:  [  6.         400.           5.66666667 401.           1.66666667\n",
      "   2.33333333   3.66666667   3.33333333   6.33333333   6.\n",
      "   3.         402.           4.           5.         403.\n",
      " 404.         405.           2.66666667   4.           3.66666667]\n"
     ]
    }
   ],
   "source": [
    "s = Silhouette()\n",
    "\n",
    "labels=np.array([2, 0, 1, 0, 1, 1, 2, 1, 2, 1, 1, 0, 2, 2, 0, 0, 0, 1, 1, 2])\n",
    "mean = np.mean(test, axis = 1)\n",
    "print(\"mean before: \", mean)\n",
    "ind = np.where(labels<1)\n",
    "print(\"ind: \",ind)\n",
    "mean[ind] = np.arange(400,406)\n",
    "print(\"mean after: \", mean)\n",
    "\n",
    "#s.score(test, labels)\n"
   ]
  },
  {
   "cell_type": "code",
   "execution_count": 307,
   "id": "ded2ffc1",
   "metadata": {},
   "outputs": [
    {
     "name": "stdout",
     "output_type": "stream",
     "text": [
      "test:  [[1 5 0]\n",
      " [3 6 9]\n",
      " [7 5 4]\n",
      " [2 9 8]\n",
      " [6 1 7]\n",
      " [4 3 9]\n",
      " [1 3 1]\n",
      " [0 1 4]\n",
      " [6 8 3]\n",
      " [3 3 3]\n",
      " [4 1 5]\n",
      " [6 7 8]\n",
      " [5 6 5]\n",
      " [9 8 1]\n",
      " [8 7 7]\n",
      " [6 5 3]\n",
      " [4 2 6]\n",
      " [8 0 6]\n",
      " [1 8 0]\n",
      " [1 9 5]]\n"
     ]
    },
    {
     "name": "stderr",
     "output_type": "stream",
     "text": [
      "/var/folders/bq/wgkng3ln1q908g_9zwmkkq480000gp/T/ipykernel_82566/3395033903.py:35: DeprecationWarning: elementwise comparison failed; this will raise an error in the future.\n",
      "  rows, cols = np.where(X[cluster] == y)\n"
     ]
    },
    {
     "ename": "ValueError",
     "evalue": "not enough values to unpack (expected 2, got 1)",
     "output_type": "error",
     "traceback": [
      "\u001b[0;31m---------------------------------------------------------------------------\u001b[0m",
      "\u001b[0;31mValueError\u001b[0m                                Traceback (most recent call last)",
      "Input \u001b[0;32mIn [307]\u001b[0m, in \u001b[0;36m<cell line: 5>\u001b[0;34m()\u001b[0m\n\u001b[1;32m      3\u001b[0m \u001b[38;5;28mprint\u001b[39m(\u001b[38;5;124m\"\u001b[39m\u001b[38;5;124mtest: \u001b[39m\u001b[38;5;124m\"\u001b[39m, test)\n\u001b[1;32m      4\u001b[0m labels\u001b[38;5;241m=\u001b[39mnp\u001b[38;5;241m.\u001b[39marray([\u001b[38;5;241m2\u001b[39m, \u001b[38;5;241m0\u001b[39m, \u001b[38;5;241m1\u001b[39m, \u001b[38;5;241m0\u001b[39m, \u001b[38;5;241m1\u001b[39m, \u001b[38;5;241m1\u001b[39m, \u001b[38;5;241m2\u001b[39m, \u001b[38;5;241m1\u001b[39m, \u001b[38;5;241m2\u001b[39m, \u001b[38;5;241m1\u001b[39m, \u001b[38;5;241m1\u001b[39m, \u001b[38;5;241m0\u001b[39m, \u001b[38;5;241m2\u001b[39m, \u001b[38;5;241m2\u001b[39m, \u001b[38;5;241m0\u001b[39m, \u001b[38;5;241m0\u001b[39m, \u001b[38;5;241m0\u001b[39m, \u001b[38;5;241m1\u001b[39m, \u001b[38;5;241m1\u001b[39m, \u001b[38;5;241m2\u001b[39m])\n\u001b[0;32m----> 5\u001b[0m \u001b[43ms\u001b[49m\u001b[38;5;241;43m.\u001b[39;49m\u001b[43mscore\u001b[49m\u001b[43m(\u001b[49m\u001b[43mtest\u001b[49m\u001b[43m,\u001b[49m\u001b[43mlabels\u001b[49m\u001b[43m)\u001b[49m\n",
      "Input \u001b[0;32mIn [305]\u001b[0m, in \u001b[0;36mSilhouette.score\u001b[0;34m(self, X, y)\u001b[0m\n\u001b[1;32m     31\u001b[0m a \u001b[38;5;241m=\u001b[39m np\u001b[38;5;241m.\u001b[39mzeros(nobs)\n\u001b[1;32m     33\u001b[0m \u001b[38;5;28;01mfor\u001b[39;00m cluster \u001b[38;5;129;01min\u001b[39;00m labels:\n\u001b[0;32m---> 35\u001b[0m     rows, cols \u001b[38;5;241m=\u001b[39m np\u001b[38;5;241m.\u001b[39mwhere(X[cluster] \u001b[38;5;241m==\u001b[39m y)\n\u001b[1;32m     37\u001b[0m     cluster_type \u001b[38;5;241m=\u001b[39m X[cluster \u001b[38;5;241m==\u001b[39m y]\n\u001b[1;32m     38\u001b[0m     \u001b[38;5;28mprint\u001b[39m(\u001b[38;5;124m\"\u001b[39m\u001b[38;5;124mcluster type: \u001b[39m\u001b[38;5;124m\"\u001b[39m, cluster_type)\n",
      "\u001b[0;31mValueError\u001b[0m: not enough values to unpack (expected 2, got 1)"
     ]
    }
   ],
   "source": [
    "s = Silhouette()\n",
    "test = np.random.choice(10,(20,3))\n",
    "print(\"test: \", test)\n",
    "labels=np.array([2, 0, 1, 0, 1, 1, 2, 1, 2, 1, 1, 0, 2, 2, 0, 0, 0, 1, 1, 2])\n",
    "s.score(test,labels)"
   ]
  },
  {
   "cell_type": "code",
   "execution_count": 190,
   "id": "0f44908d",
   "metadata": {},
   "outputs": [
    {
     "data": {
      "text/plain": [
       "array([ 0,  1,  2,  3,  4,  5,  6,  7,  8,  9, 10, 11, 12, 13])"
      ]
     },
     "execution_count": 190,
     "metadata": {},
     "output_type": "execute_result"
    }
   ],
   "source": [
    "c=np.arange(0,14)\n",
    "c"
   ]
  },
  {
   "cell_type": "code",
   "execution_count": 193,
   "id": "fe1cb46a",
   "metadata": {},
   "outputs": [
    {
     "data": {
      "text/plain": [
       "array([inf, inf, inf, inf, inf, inf, inf, inf, inf, inf, inf, inf, inf,\n",
       "       inf, inf, inf, inf, inf, inf, inf])"
      ]
     },
     "execution_count": 193,
     "metadata": {},
     "output_type": "execute_result"
    }
   ],
   "source": [
    "min_dists = np.full(test.shape[0], np.inf)\n",
    "min_dists"
   ]
  },
  {
   "cell_type": "code",
   "execution_count": 194,
   "id": "0d044adb",
   "metadata": {},
   "outputs": [
    {
     "data": {
      "text/plain": [
       "4"
      ]
     },
     "execution_count": 194,
     "metadata": {},
     "output_type": "execute_result"
    }
   ],
   "source": [
    "x=[0,1,2,3,4]\n",
    "np.amax(x)"
   ]
  },
  {
   "cell_type": "code",
   "execution_count": 214,
   "id": "95ab88f3",
   "metadata": {},
   "outputs": [
    {
     "ename": "TypeError",
     "evalue": "'>' not supported between instances of 'list' and 'int'",
     "output_type": "error",
     "traceback": [
      "\u001b[0;31m---------------------------------------------------------------------------\u001b[0m",
      "\u001b[0;31mTypeError\u001b[0m                                 Traceback (most recent call last)",
      "Input \u001b[0;32mIn [214]\u001b[0m, in \u001b[0;36m<cell line: 1>\u001b[0;34m()\u001b[0m\n\u001b[0;32m----> 1\u001b[0m \u001b[43mx\u001b[49m\u001b[38;5;241;43m>\u001b[39;49m\u001b[38;5;241;43m2\u001b[39;49m\n",
      "\u001b[0;31mTypeError\u001b[0m: '>' not supported between instances of 'list' and 'int'"
     ]
    }
   ],
   "source": [
    "x>2"
   ]
  },
  {
   "cell_type": "code",
   "execution_count": null,
   "id": "5faf36ff",
   "metadata": {},
   "outputs": [],
   "source": []
  }
 ],
 "metadata": {
  "kernelspec": {
   "display_name": "Python 3 (ipykernel)",
   "language": "python",
   "name": "python3"
  },
  "language_info": {
   "codemirror_mode": {
    "name": "ipython",
    "version": 3
   },
   "file_extension": ".py",
   "mimetype": "text/x-python",
   "name": "python",
   "nbconvert_exporter": "python",
   "pygments_lexer": "ipython3",
   "version": "3.9.12"
  }
 },
 "nbformat": 4,
 "nbformat_minor": 5
}
